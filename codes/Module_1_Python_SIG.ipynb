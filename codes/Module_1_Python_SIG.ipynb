{
  "nbformat": 4,
  "nbformat_minor": 0,
  "metadata": {
    "colab": {
      "provenance": []
    },
    "kernelspec": {
      "name": "python3",
      "display_name": "Python 3"
    },
    "language_info": {
      "name": "python"
    }
  },
  "cells": [
    {
      "cell_type": "markdown",
      "source": [
        "# Python introduction"
      ],
      "metadata": {
        "id": "_Yf_mqFAKCbI"
      }
    },
    {
      "cell_type": "markdown",
      "source": [
        "**origin of python -**\n",
        "    \n",
        "    created by Guido van Rossum in 1991, Named after Monty Python's Flying Circus, a TV show.\n",
        "\n",
        "Everyday we Interact with Python for applications like : Instagram, Facebook, Google, and Spotify.\n",
        "\n",
        "Python is widely used in machine learning, including frameworks like TensorFlow\n",
        "\n",
        "\n",
        "**Why learn Python ?**\n",
        "\n",
        "\n",
        "*   Easy to learn and beginner-friendly.\n",
        "*   Simple syntax and an abundance of libraries.\n",
        "*   Facilitates rapid development and feature building.\n",
        "*   Widely used and supported by a large engineering community.\n",
        "\n",
        "\n",
        "**Python Syntax, Whitespace, and Indentation -**\n",
        "\n",
        "will see print statements.\n",
        "*   A simple print() statement generates text in the terminal.\n",
        "*   Avoid placing multiple statements on the same line without proper separation\n",
        "\n",
        "\n",
        "\n",
        "\n",
        "\n",
        "\n"
      ],
      "metadata": {
        "id": "k3iWDOIIMGxU"
      }
    },
    {
      "cell_type": "code",
      "source": [
        "print(\"Hello\"); print(\"World\")"
      ],
      "metadata": {
        "colab": {
          "base_uri": "https://localhost:8080/"
        },
        "id": "_IiGYGSwMF7J",
        "outputId": "140114fd-6e20-4e20-c8b2-438b542cf479"
      },
      "execution_count": null,
      "outputs": [
        {
          "output_type": "stream",
          "name": "stdout",
          "text": [
            "Hello\n",
            "World\n"
          ]
        }
      ]
    },
    {
      "cell_type": "markdown",
      "source": [
        "\n",
        "\n",
        "*   **Whitespace**: While excessive whitespace is ignored within a single line, multiline expressions\n",
        "require continuation indicators.\n",
        "\n"
      ],
      "metadata": {
        "id": "oVZxKbNwU_FH"
      }
    },
    {
      "cell_type": "code",
      "execution_count": null,
      "metadata": {
        "colab": {
          "base_uri": "https://localhost:8080/"
        },
        "id": "u0naSfcaHaJs",
        "outputId": "9014a547-3fd5-4b66-b1de-e8caf50f7af9"
      },
      "outputs": [
        {
          "output_type": "stream",
          "name": "stdout",
          "text": [
            "6\n"
          ]
        }
      ],
      "source": [
        "x = 1 + 2 \\\n",
        "+ 3\n",
        "print(x) # Output: 6"
      ]
    },
    {
      "cell_type": "markdown",
      "source": [
        "\n",
        "\n",
        "*   **Indentation**: Proper indentation is mandatory in Python to define code blocks. Errors like\n",
        "IndentationError help identify where the issue is.\n",
        "\n",
        "\n",
        "\n",
        "\n",
        "\n",
        "\n"
      ],
      "metadata": {
        "id": "ShNn3skpVspV"
      }
    },
    {
      "cell_type": "code",
      "source": [
        "name = \"John\"\n",
        "if name == \"John\":\n",
        "    print(name) # Correctly indented; Output: John"
      ],
      "metadata": {
        "colab": {
          "base_uri": "https://localhost:8080/"
        },
        "id": "BM-QBfWXWB7V",
        "outputId": "17e3bf04-eb31-4ff4-8fbf-a7424fe9a6ec"
      },
      "execution_count": null,
      "outputs": [
        {
          "output_type": "stream",
          "name": "stdout",
          "text": [
            "John\n"
          ]
        }
      ]
    },
    {
      "cell_type": "markdown",
      "source": [
        "# Understanding Variables in Python"
      ],
      "metadata": {
        "id": "0naRgS0XXTwF"
      }
    },
    {
      "cell_type": "markdown",
      "source": [
        "Variables are essential for storing and manipulating data in a program.\n",
        "They act as references to values that can change throughout the program's lifecycle.\n",
        "\n",
        "A variable is declared by assigning it a value using the = operator.\n",
        "\n",
        "Example:\n",
        "x = 10\n",
        "\n",
        "**Rules for Defining a Variable in Python**\n",
        "\n",
        "\n",
        "1.   Variable Names Must Start with a Letter or an Underscore ( _ ), It cannot begin with a number or special character.\n",
        "\n",
        " Examples:\n",
        "\n",
        " my_variable = 10 # Valid\n",
        "    \n",
        " 1variable = 30 # Invalid\n",
        "2.   Variable Names Can Contain alphanumeric characters (a-z, A-Z, 0-9) and underscores ( _ ), Also Variable Names Are Case-Sensitive.\n",
        "\n",
        "    Examples:\n",
        "\n",
        "  print(myVariable) = 10 # output = 10\n",
        "\n",
        "     print(MyVariable) = 20 # output = 20\n",
        "\n",
        "\n",
        "\n",
        "3. Python has reserved keywords (e.g., if , else , for , while , True , False ) that cannot be used\n",
        "as variable names.  \n",
        "4.   No Spaces Are Allowed in Variable Names\n",
        "Use underscores ( _ ) to separate words instead of spaces.\n",
        "\n",
        "5.   Avoid Starting with Double Underscores ( __ )\n",
        "Names starting with double underscores are reserved for special purposes in Python (e.g.,\n",
        "__init__ , __name__ )\n",
        "2.   No Spaces Are Allowed in Variable Names\n",
        "Use underscores ( _ ) to separate words instead of spaces.\n",
        "\n",
        "**Best Practices for Defining Variables -**\n",
        "1. Use snake_case or camelCase consistently.\n",
        "2. Make names self-explanatory to improve readability.\n",
        "3. Use lowercase letters unless you're following a specific naming convention.\n",
        "4. Avoid using single-character names except for temporary or loop variables like i , j.\n",
        "\n",
        "\n",
        "\n",
        "---\n",
        "\n",
        "\n",
        "\n",
        "*   Multiple Assignments\n",
        "\n",
        "    *   Assign the same value to multiple variables.\n",
        "    *   Assign different values to multiple variable.\n",
        "\n",
        "\n",
        "\n",
        "\n",
        "\n",
        "\n",
        "\n",
        "\n",
        "\n",
        "\n",
        "\n"
      ],
      "metadata": {
        "id": "t9rjDZgCXZI6"
      }
    },
    {
      "cell_type": "code",
      "source": [
        "#Assign the same value to multiple variables.\n",
        "a = b = c = 10\n",
        "print(a, b, c) # Output: 10 10 10\n",
        "#Assign different values to multiple variables\n",
        "a, b, c = 1, 2, 3\n",
        "print(a, b, c) # Output: 1 2 3\n"
      ],
      "metadata": {
        "colab": {
          "base_uri": "https://localhost:8080/"
        },
        "id": "rcwhmgLmeqah",
        "outputId": "2bdd12a1-af89-4602-9e58-9ca201d646fe"
      },
      "execution_count": null,
      "outputs": [
        {
          "output_type": "stream",
          "name": "stdout",
          "text": [
            "10 10 10\n",
            "1 2 3\n"
          ]
        }
      ]
    },
    {
      "cell_type": "markdown",
      "source": [
        "\n",
        "\n",
        "*   Reassigning Variables, Variables can be reassigned new values at any time\n"
      ],
      "metadata": {
        "id": "jen4fwK3dIDc"
      }
    },
    {
      "cell_type": "code",
      "source": [
        "a = 10\n",
        "print(a) # Output: 10\n",
        "a = 5\n",
        "print(a) # Output: 5"
      ],
      "metadata": {
        "colab": {
          "base_uri": "https://localhost:8080/"
        },
        "id": "bibhzasmgilh",
        "outputId": "dbbb8102-297d-4f5a-9817-389a74043573"
      },
      "execution_count": null,
      "outputs": [
        {
          "output_type": "stream",
          "name": "stdout",
          "text": [
            "10\n",
            "5\n"
          ]
        }
      ]
    },
    {
      "cell_type": "markdown",
      "source": [
        "\n",
        "\n",
        "*   For deleting Variables We use the del keyword to delete a variable.\n",
        "\n",
        "\n"
      ],
      "metadata": {
        "id": "9Z3jLs7xgoxl"
      }
    },
    {
      "cell_type": "code",
      "source": [
        "a = 10\n",
        "print(a) # Output: 10\n",
        "del a"
      ],
      "metadata": {
        "colab": {
          "base_uri": "https://localhost:8080/"
        },
        "id": "Bzo5LQyag4qO",
        "outputId": "047ed3df-9c3d-40fd-afa1-aafd4e2cb685"
      },
      "execution_count": null,
      "outputs": [
        {
          "output_type": "stream",
          "name": "stdout",
          "text": [
            "10\n"
          ]
        }
      ]
    },
    {
      "cell_type": "markdown",
      "source": [
        "# Data Types in Python"
      ],
      "metadata": {
        "id": "lgAOxFzHhTvk"
      }
    },
    {
      "cell_type": "markdown",
      "source": [
        "A data type is an attribute of data that determines how it is stored and interpreted by a\n",
        "computer system.\n",
        "\n",
        "**Types of Data in Python -**\n",
        "1. Numeric Data Types\n",
        "Numeric data types store numbers and are divided into:\n",
        "\n",
        "   Integer ( int ): Represents whole numbers (e.g., 10 , -5 ).\n",
        "\n",
        "   Float ( float ): Represents numbers with decimal points (e.g., 10.5 , -2.3 ).\n",
        "\n",
        "   Complex ( complex ): Represents numbers with both real and imaginary parts (e.g., 10 + 5j )\n",
        "\n",
        "\n",
        "2. Sequence Data Types\n",
        "\n",
        "     Sequence types store ordered collections of items:\n",
        "  \n",
        "     String ( str ): Sequence of characters enclosed in single or double quotes (e.g., \"Hello\" or 'World').\n",
        "\n",
        "     List ( list ): Mutable sequences of items, defined using square brackets (e.g., [1, 2, 3] ).\n",
        "\n",
        "     Tuple ( tuple ): Immutable sequences of items, defined using parentheses (e.g., (1, 2, 3) ).\n",
        "\n",
        "\n",
        "3. Dictionary Data Type\n",
        "\n",
        "   Dictionary ( dict ): Stores data in key-value pairs, enclosed in curly braces (e.g., {\"a\": 1, \"b\":\n",
        "2} ).\n",
        "\n",
        "    * Keys must be unique and immutable (e.g., strings or integers).\n",
        "\n",
        "    * Values can be any data type.\n",
        "\n",
        "\n",
        "4. Boolean Data Type\n",
        "\n",
        "    Boolean ( bool ): Represents True or False values, often used for logical operations and\n",
        "conditions.\n",
        "\n",
        "\n",
        "5. Set Data Type\n",
        "\n",
        "     Set ( set ): Unordered, non-indexed collections of unique items, defined using curly braces (e.g.,{1, 2, 3} ).\n",
        "\n",
        "\n",
        "---\n",
        "\n",
        "\n",
        "*   Python provides the type() function to check the data type of a variable.\n",
        "\n"
      ],
      "metadata": {
        "id": "YQ66Z58NhfZG"
      }
    },
    {
      "cell_type": "code",
      "source": [
        "a = 10 # Integer\n",
        "b = 2.5 # Float\n",
        "c = \"Python\" # String\n",
        "d = [1, 2, 3] # List\n",
        "print(type(a)) # Output: <class 'int'>\n",
        "print(type(b)) # Output: <class 'float'>\n",
        "print(type(c)) # Output: <class 'str'>\n",
        "print(type(d)) # Output: <class 'list'>"
      ],
      "metadata": {
        "colab": {
          "base_uri": "https://localhost:8080/"
        },
        "id": "IfX-a7OplyBX",
        "outputId": "707b7043-4b1a-4408-a1ac-07d3409326af"
      },
      "execution_count": null,
      "outputs": [
        {
          "output_type": "stream",
          "name": "stdout",
          "text": [
            "<class 'int'>\n",
            "<class 'float'>\n",
            "<class 'str'>\n",
            "<class 'list'>\n"
          ]
        }
      ]
    },
    {
      "cell_type": "markdown",
      "source": [
        "# Key Points on Strings in Python"
      ],
      "metadata": {
        "id": "Q4GWV0JamISu"
      }
    },
    {
      "cell_type": "markdown",
      "source": [
        "A string in Python is a sequence of characters enclosed in either single ( ' ) or double ( \" )\n",
        "quotes. These Strings are encoded using Unicode, allowing computers to interpret characters as binary code.\n",
        "\n",
        "\n",
        "\n",
        "*   string are declared in single line or multi line, for multi line strings Use triple quotes ( ''' or \"\"\" ) or backslashes ( \\ ) to continue a string on\n",
        "the next line.\n",
        "     \n",
        "     single_quote_str = 'Hello'\n",
        "     \n",
        "     double_quote_str = \"World\"\n",
        "\n",
        "     multi_line_str = '''This is a\n",
        "multi-line string.'''\n",
        "\n",
        "     backslash_str = \"This is a multi-\\\\\n",
        "     \n",
        "      line string example.\"\n",
        "\n",
        "\n",
        "\n",
        "\n",
        "*   **String operations.**\n",
        "   * Strings can be reassigned to new values.\n",
        "\n",
        "     name = \"John\"\n",
        "\n",
        "     name = \"Paul\"\n",
        "     \n",
        "     print(name) # Output: Paul   \n",
        "   \n",
        "   *   Concatenation We use the + operator to join the strings.\n",
        "\n",
        "\n",
        "\n",
        "\n",
        "\n",
        "\n",
        "\n"
      ],
      "metadata": {
        "id": "87_AGSdXnMOf"
      }
    },
    {
      "cell_type": "code",
      "source": [
        "a = \"Hello, \"\n",
        "b = \"World!\"\n",
        "print(a + b) # Output: Hello, World!"
      ],
      "metadata": {
        "colab": {
          "base_uri": "https://localhost:8080/"
        },
        "id": "Ra9izipUATsU",
        "outputId": "28ae386f-3cfe-44d3-917f-1b318b623b6f"
      },
      "execution_count": null,
      "outputs": [
        {
          "output_type": "stream",
          "name": "stdout",
          "text": [
            "Hello, World!\n"
          ]
        }
      ]
    },
    {
      "cell_type": "markdown",
      "source": [
        "\n",
        "  * Strings are zero-indexed, meaning the first character has an index of 0. We can use len() function to determine the length of a string.\n",
        "\n",
        "\n",
        "\n"
      ],
      "metadata": {
        "id": "n9gfxJY-AmQp"
      }
    },
    {
      "cell_type": "code",
      "source": [
        "word = \"Python\"\n",
        "print(word[0]) # Output: P\n",
        "print(word[5]) # Output: n\n",
        "print(len(word))"
      ],
      "metadata": {
        "colab": {
          "base_uri": "https://localhost:8080/"
        },
        "id": "zMm8rH0IBU7U",
        "outputId": "b3b72120-6834-4459-f237-77132339c650"
      },
      "execution_count": null,
      "outputs": [
        {
          "output_type": "stream",
          "name": "stdout",
          "text": [
            "P\n",
            "n\n",
            "6\n"
          ]
        }
      ]
    },
    {
      "cell_type": "markdown",
      "source": [
        "# Typecasting in Python"
      ],
      "metadata": {
        "id": "KBF1G8glBv3J"
      }
    },
    {
      "cell_type": "markdown",
      "source": [
        "Typecasting is the process of converting a variable's data type into another data type.\n",
        "This is useful in situations where you need to manipulate data in a format different from how it\n",
        "was originally stored or collected.\n",
        "\n",
        "**Types of Typecasting**\n",
        "\n",
        "\n",
        "*   Implicit Typecasting\n",
        "\n",
        "     Python automatically converts one data type to another to prevent data loss or errors during\n",
        "operations.\n",
        "This happens only when data types are compatible\n",
        "\n",
        "\n"
      ],
      "metadata": {
        "id": "jpVuiRSpCEn7"
      }
    },
    {
      "cell_type": "code",
      "source": [
        "# Implicit conversion from int to float\n",
        "num_int = 5\n",
        "num_float = num_int + 2.5\n",
        "print(num_float) # Output: 7.5\n",
        "print(type(num_float)) # Output: <class 'float'>"
      ],
      "metadata": {
        "colab": {
          "base_uri": "https://localhost:8080/"
        },
        "id": "VVkeDImaDwZo",
        "outputId": "84c738ee-fb0f-40bb-d957-bfb7d661733e"
      },
      "execution_count": null,
      "outputs": [
        {
          "output_type": "stream",
          "name": "stdout",
          "text": [
            "7.5\n",
            "<class 'float'>\n"
          ]
        }
      ]
    },
    {
      "cell_type": "markdown",
      "source": [
        "\n",
        "*   Explicit Typecasting\n",
        "\n",
        "     Developers manually convert a variable to another data type using Python’s built-in functions.\n",
        "This is useful when Python does not automatically handle the conversion (e.g., string to int).\n",
        "\n",
        "    1.   str() : Converts given data to a string.\n",
        "    2.    int() : Converts data to an integer (if possible)\n",
        "\n",
        "    1.   float() : Converts data to a float (if possible)\n",
        "\n",
        "\n",
        "*  Python will raise a TypeError if the conversion isn’t possible.\n",
        "\n",
        "* Converting float to int truncates the decimal.\n",
        "     \n",
        "     float_value = 4.99\n",
        "     \n",
        "     int_value = int(float_value)\n",
        "     \n",
        "     print(int_value) # Output: 4\n",
        "\n",
        "\n",
        "\n",
        "\n",
        "\n"
      ],
      "metadata": {
        "id": "7NUvZ3P8D3oA"
      }
    },
    {
      "cell_type": "code",
      "source": [
        "value = 123\n",
        "string_value = str(value)\n",
        "print(string_value) # Output: \"123\"\n",
        "print(type(string_value)) # Output: <class 'str'>\n",
        "\n",
        "value = \"42\"\n",
        "int_value = int(value)\n",
        "print(int_value) # Output: 42\n",
        "print(type(int_value)) # Output: <class 'int'>\n",
        "\n",
        "value = \"3.14\"\n",
        "float_value = float(value)\n",
        "print(float_value) # Output: 3.14\n",
        "print(type(float_value)) # Output: <class 'float'>"
      ],
      "metadata": {
        "colab": {
          "base_uri": "https://localhost:8080/"
        },
        "id": "mhwt3nwRFAut",
        "outputId": "5adcce5c-b379-4a6f-e9d1-3ddb26dfeee7"
      },
      "execution_count": null,
      "outputs": [
        {
          "output_type": "stream",
          "name": "stdout",
          "text": [
            "123\n",
            "<class 'str'>\n",
            "42\n",
            "<class 'int'>\n",
            "3.14\n",
            "<class 'float'>\n"
          ]
        }
      ]
    },
    {
      "cell_type": "markdown",
      "source": [
        "Other Typecasting Functions\n",
        "\n",
        "*  ord() : Converts a character to its Unicode integer value.\n",
        "\n",
        "     print(ord('A')) # Output: 65\n",
        "\n",
        "\n",
        "* hex() : Converts an integer to a hexadecimal string.\n",
        "\n",
        "     print(hex(255)) # Output: '0xff'\n",
        "\n",
        "\n",
        "* oct() : Converts an integer to an octal string.\n",
        "\n",
        "     print(oct(8)) # Output: '0o10'\n",
        "\n",
        "\n",
        "* list() : Converts a sequence to a list.\n",
        "     \n",
        "     value = \"abc\"\n",
        "\n",
        "     print(list(value)) # Output: ['a', 'b', 'c']\n",
        "\n",
        "\n",
        "* tuple() : Converts a sequence to a tuple.\n",
        "     \n",
        "     value = [1, 2, 3]\n",
        "\n",
        "     print(tuple(value)) # Output: (1, 2, 3)\n",
        "\n",
        "\n",
        "* set() : Converts a sequence to a set.\n",
        "     \n",
        "     value = [1, 2, 2, 3]\n",
        "     \n",
        "     print(set(value)) # Output: {1, 2, 3}\n",
        "\n",
        "\n",
        "* dict() : Converts key-value pairs into a dictionary.\n",
        "     \n",
        "     pairs = [('a', 1), ('b', 2)]\n",
        "     \n",
        "     print(dict(pairs)) # Output: {'a': 1, 'b': 2}"
      ],
      "metadata": {
        "id": "mrG2YrQpFbvg"
      }
    },
    {
      "cell_type": "markdown",
      "source": [
        "# Inputs and Outputs in Python"
      ],
      "metadata": {
        "id": "-SJje-1AGxWJ"
      }
    },
    {
      "cell_type": "markdown",
      "source": [
        "Python makes it simple to interact with users or external services using:\n",
        "\n",
        "* input() : Collects user input or data from other sources.\n",
        "\n",
        "* print() : Outputs information to the screen or a file.\n",
        "\n",
        "\n",
        "\n",
        "**The input() Function**\n",
        "\n",
        "The input() function is used to collect data from the user through the keyboard or console.\n",
        "The data entered is always returned as a string.    \n",
        " * Since input() returns data as a string, you often need to convert it into another data type for\n",
        "calculations or logical operations.\n",
        "\n",
        "* You can also display a message or a question inside the input() function to guide the user.\n",
        "\n"
      ],
      "metadata": {
        "id": "Ytj5P5uPG6-5"
      }
    },
    {
      "cell_type": "code",
      "source": [
        "age = input(\"How old are you? \")\n",
        "print(\"You are \" + age + \" years old.\")\n",
        "\n",
        "num = int(input(\"Enter the any number: \"))\n",
        "print(num)\n",
        "\n",
        "price = float(input(\"Enter the price of the item: \"))\n",
        "print(\"The price with tax is:\", price * 1.08)"
      ],
      "metadata": {
        "colab": {
          "base_uri": "https://localhost:8080/"
        },
        "id": "mNwo4rW9IfLk",
        "outputId": "81ad3192-60dd-4d2a-968b-63a7440b6d2c"
      },
      "execution_count": null,
      "outputs": [
        {
          "output_type": "stream",
          "name": "stdout",
          "text": [
            "How old are you? 18\n",
            "You are 18 years old.\n",
            "Enter the any number: 9\n",
            "9\n",
            "Enter the price of the item: 10\n",
            "The price with tax is: 10.8\n"
          ]
        }
      ]
    },
    {
      "cell_type": "markdown",
      "source": [
        "* **The print() Function**\n",
        "\n",
        "     The print() function is used to display output in Python.\n",
        "\n",
        "    *   Printing multiple objects.\n",
        "        \n",
        "        Use commas to separate objects, and Python will print them with spaces by default.The sep parameter defines the separator between printed\n",
        "        objects.\n",
        "        \n",
        "    \n",
        "    print(\"apple\", \"banana\", \"cherry\", sep=\", \")\n",
        "    Output: apple, banana, cherry\n",
        "  The end parameter defines what is printed at the end of the output (default is a newline \\n).\n",
        "\n",
        "     print(\"Hello\", end=\" \")\n",
        "\n",
        "     print(\"World!\")\n",
        "\n",
        "     Output: Hello World!\n",
        "    \n",
        "*   String Concatenation with print()\n",
        "\n",
        "     Use + to join strings:\n",
        "\n",
        "\n",
        "     first_name = \"Tom\"\n",
        "\n",
        "     last_name = \"Jones\"\n",
        "\n",
        "     print(\"Hello, \" + first_name + \" \" + last_name)\n",
        "\n",
        "     Output: Hello, Tom Jones\n",
        "  *  String Formatting\n",
        "\n",
        "      1.Using format()\n",
        "  \n",
        "     2.Using f-strings (Python 3.6+)"
      ],
      "metadata": {
        "id": "ngb4PW3LJQ64"
      }
    },
    {
      "cell_type": "code",
      "source": [
        "#Using format()\n",
        "name = \"Alice\"\n",
        "age = 30\n",
        "print(\"Hello, {}. You are {} years old.\".format(name, age))\n",
        "\n",
        "#Using f-strings\n",
        "name = \"Alice\"\n",
        "age = 30\n",
        "print(f\"Hello, {name}. You are {age} years old.\")"
      ],
      "metadata": {
        "colab": {
          "base_uri": "https://localhost:8080/"
        },
        "id": "8oTASfOeMzse",
        "outputId": "21eec6d7-d0a2-4669-dade-61329d6c8201"
      },
      "execution_count": null,
      "outputs": [
        {
          "output_type": "stream",
          "name": "stdout",
          "text": [
            "Hello, Alice. You are 30 years old.\n",
            "Hello, Alice. You are 30 years old.\n"
          ]
        }
      ]
    },
    {
      "cell_type": "markdown",
      "source": [
        "# Math and Logical Operators in Python"
      ],
      "metadata": {
        "id": "VSl32htENOyS"
      }
    },
    {
      "cell_type": "markdown",
      "source": [
        "In Python, operators are symbols that direct the program to perform specific operations. Similar to\n",
        "how road signs guide drivers, operators help Python execute mathematical calculations, logical\n",
        "decisions, and comparisons.\n",
        "\n",
        "**Math Operators**\n",
        "\n",
        "Math operators in Python are similar to functions in a calculator. They allow for performing basic\n",
        "arithmetic operations:\n",
        "\n",
        "1. Addition ( + )\n",
        "Combines two numbers.\n",
        "\n",
        "     Example: 2 + 3 results in 5 .\n",
        "\n",
        "2. Subtraction ( - )\n",
        "Subtracts one number from another.\n",
        "\n",
        "     Example: 3 - 2 results in 1 .\n",
        "\n",
        "3. Division ( / )\n",
        "Divides one number by another.\n",
        "\n",
        "     Example: 35 / 5 results in 7.0 (returns a float).\n",
        "\n",
        "4. Multiplication ( * )\n",
        "Multiplies two numbers.\n",
        "\n",
        "     Example: 7 * 4 results in 28 .\n",
        "\n"
      ],
      "metadata": {
        "id": "wWoqB-C0NYF6"
      }
    },
    {
      "cell_type": "code",
      "source": [
        "print(2 + 2) # Output: 4\n",
        "print(3 - 2) # Output: 1\n",
        "print(35 / 5) # Output: 7.0 (float)\n",
        "print(7 * 4) # Output: 28"
      ],
      "metadata": {
        "colab": {
          "base_uri": "https://localhost:8080/"
        },
        "id": "NjhuuyOdO0w7",
        "outputId": "ab08b457-b032-4570-f89f-cfdfe060e68b"
      },
      "execution_count": null,
      "outputs": [
        {
          "output_type": "stream",
          "name": "stdout",
          "text": [
            "4\n",
            "1\n",
            "7.0\n",
            "28\n"
          ]
        }
      ]
    },
    {
      "cell_type": "markdown",
      "source": [
        "**Logical Operators**\n",
        "\n",
        "Logical operators evaluate conditions and return a Boolean value: True or False . They are often\n",
        "used in conditional statements to control the program's flow.\n",
        "1. AND ( and ) -  Returns True only if both conditions are true.\n",
        "2. OR ( or ) - Returns True if at least one condition is true.\n",
        "3. NOT ( not ) - Reverses the logical state of its operand.\n"
      ],
      "metadata": {
        "id": "Hrwxu7TfPAKa"
      }
    },
    {
      "cell_type": "code",
      "source": [
        "# AND Operator\n",
        "a = True\n",
        "b = True\n",
        "if a and b:\n",
        "   print(\"Both are true\")\n",
        "\n",
        "# OR Operator\n",
        "a = True\n",
        "b = False\n",
        "if a or b:\n",
        "   print(\"At least one is true\")\n",
        "\n",
        "# NOT Operator\n",
        "a = False\n",
        "if not a:\n",
        "   print(\"not false\")\n"
      ],
      "metadata": {
        "colab": {
          "base_uri": "https://localhost:8080/"
        },
        "id": "eJUm0mYDPOzU",
        "outputId": "be352be3-8478-4adb-950c-0498441d5903"
      },
      "execution_count": null,
      "outputs": [
        {
          "output_type": "stream",
          "name": "stdout",
          "text": [
            "Both are true\n",
            "At least one is true\n",
            "not false\n"
          ]
        }
      ]
    },
    {
      "cell_type": "markdown",
      "source": [
        "# Control Flow in Python."
      ],
      "metadata": {
        "id": "PjZ6mZPZPh01"
      }
    },
    {
      "cell_type": "markdown",
      "source": [
        "It refers to the order in which a program’s instructions are executed.\n",
        "Enables decision-making, leading to different program actions or directions.\n",
        "\n",
        "In Python, control flow is managed through:\n",
        "\n",
        "     Conditional Statements: if , else , elif .\n",
        "     Loops: for and while .\n",
        "\n",
        "**Conditional Statements Overview**\n",
        "\n",
        "1. if Statement:\n",
        "Executes a block of code if the condition is true.\n",
        "\n",
        "\n",
        "    Example:\n",
        "    if bill_total > 100:\n",
        "    print(\"Bill is greater than 100\")\n",
        "2. else Statement:\n",
        "Executes when the preceding if condition is false.\n",
        "\n",
        "\n",
        "    Example:\n",
        "    else:\n",
        "    print(\"Bill is less than or equal to 100\")\n",
        "3. elif Statement:\n",
        "Short for \"else if\".\n",
        "Checks another condition if the preceding if or elif conditions are false.\n",
        "\n",
        "\n",
        "\n",
        "    Example:\n",
        "    elif bill_total > 200:\n",
        "    print(\"Bill is greater than 200\")"
      ],
      "metadata": {
        "id": "BX2vC7y5PrKL"
      }
    },
    {
      "cell_type": "code",
      "source": [
        "letter = \"A\"\n",
        "if letter == \"B\":\n",
        "    print(\"letter is B\")\n",
        "elif letter == \"C\":\n",
        "    print(\"letter is C\")\n",
        "elif letter == \"A\":\n",
        "    print(\"letter is A\")\n",
        "else:\n",
        "    print(\"letter isn't A, B or C\")"
      ],
      "metadata": {
        "colab": {
          "base_uri": "https://localhost:8080/"
        },
        "id": "1NptQHjdQ76W",
        "outputId": "516da791-8cc4-4c67-ce4e-a1b4b19398de"
      },
      "execution_count": null,
      "outputs": [
        {
          "output_type": "stream",
          "name": "stdout",
          "text": [
            "letter is A\n"
          ]
        }
      ]
    },
    {
      "cell_type": "markdown",
      "source": [
        "* Conditions are evaluated in the sequence they appear.\n",
        "Only the first true condition executes, skipping others.\n",
        "\n",
        "* else Acts as a Catch-All:\n",
        "Executes only if none of the preceding if or elif conditions are true.\n",
        "\n",
        "\n",
        "* Loops in Python (Brief Introduction ahead)\n",
        "    1. for Loop:\n",
        "Repeats code for a known number of iterations.\n",
        "    2. while Loop:\n",
        "Repeats code while a condition is true.  \n",
        "\n",
        "**What is a match Statement?**\n",
        "\n",
        "   * Introduced in Python 3.10, it serves as a cleaner alternative to multiple if-elif-else statements.\n",
        "\n",
        "   * Cleaner and more compact for handling many conditions.\n",
        "Each case evaluates a condition and executes code if matched.\n",
        "\n",
        "   * Compare a variable to several values (conditions) in a concise, readable way.\n",
        "Simplify complex conditional logic that would otherwise be messy with if statements.\n",
        "\n",
        "Basic Syntax\n",
        "\n",
        "\n",
        "    match variable_name:\n",
        "    case value1:\n",
        "    # Action for value1\n",
        "    case value2:\n",
        "    # Action for value2\n",
        "    case _:\n",
        "    # Default action if no match\n",
        "\n",
        "*  Advantages of match Statements\n",
        "\n",
        "    * Readability: Cleaner, especially with many conditions.\n",
        "    \n",
        "    * Efficiency: Avoids repetitive comparisons against the variable.\n",
        "    \n",
        "    * Compactness: Combines multiple values with | in a single case.\n",
        "\n",
        "\n",
        "Conclusion\n",
        "\n",
        "The match statement simplifies the process of testing a variable against many conditions. It is a\n",
        "powerful tool to improve code clarity and maintainability in Python.\n"
      ],
      "metadata": {
        "id": "4_K_ZgDqSoeL"
      }
    },
    {
      "cell_type": "code",
      "source": [
        "http_status = 200  # Assign a value to http_status for the match statement to work\n",
        "\n",
        "match http_status:\n",
        "    case 200:\n",
        "        print(\"Success\")\n",
        "    case 400:\n",
        "        print(\"Bad Request\")\n",
        "    case 500 | 501:  # Equivalent to `or`\n",
        "        print(\"Server Error\")\n",
        "    case _:\n",
        "        print(\"Unknown\")  # Default case"
      ],
      "metadata": {
        "colab": {
          "base_uri": "https://localhost:8080/"
        },
        "id": "PPC9w546UolH",
        "outputId": "73365b3b-ad3f-4357-aa8b-ca0ea1fbabe2"
      },
      "execution_count": null,
      "outputs": [
        {
          "output_type": "stream",
          "name": "stdout",
          "text": [
            "Success\n"
          ]
        }
      ]
    },
    {
      "cell_type": "markdown",
      "source": [
        "# Looping Constructs in Python"
      ],
      "metadata": {
        "id": "Tj7dKrOdTCTu"
      }
    },
    {
      "cell_type": "markdown",
      "source": [
        "Looping refers to executing the same set of steps repeatedly.\n",
        "Python offers two main looping constructs:\n",
        "\n",
        "* For loop: Used to iterate over a sequence (e.g., strings, arrays).\n",
        "* While loop: Executes as long as a specified condition is true.\n",
        "\n",
        "1. The For Loop\n",
        "\n",
        "Basic Syntax:\n",
        "\n",
        "    for variable in sequence:\n",
        "    # Code to execute\n",
        "Example:\n",
        "\n",
        "* Iterating Over a String\n",
        "\n",
        "Strings in Python are sequences, so you can loop through each character:\n",
        "\n",
        "    my_string = \"looping\"\n",
        "    for char in my_string:\n",
        "    print(char)\n",
        "\n",
        " * Iterating Over a Range:\n",
        "Use the range() function to specify a sequence of numbers:\n",
        "\n",
        "\n",
        "    for i in range(10):\n",
        "    print(f\"Iteration {i}\")Iterating Over an Array:\n",
        "\n",
        " * Example with an array of desserts:\n",
        "\n",
        "\n",
        "    favorites = [\"Cake\", \"Ice Cream\", \"Pie\", \"Brownie\", \"Pudding\"]\n",
        "    for item in favorites:\n",
        "    print(f\"I like this dessert: {item}\")\n",
        "\n",
        "2. The While Loop\n",
        "\n",
        "Basic Syntax:\n",
        "\n",
        "\n",
        "    while condition:\n",
        "    # Code to execute\n",
        "\n",
        "Example:\n",
        "\n",
        " * Iterating Over an Array with a Counter\n",
        ", A while loop requires an explicit counter:\n",
        "\n",
        "\n",
        "    favorites = [\"Cake\", \"Ice Cream\", \"Pie\", \"Brownie\", \"Pudding\"]\n",
        "    count = 0\n",
        "    while count < len(favorites):\n",
        "    print(f\"I like this dessert: {favorites[count]}\")\n",
        "    count += 1    \n",
        "If you forget to increment the counter, the loop will run indefinitely.\n",
        "Always ensure the loop condition eventually becomes false.\n",
        "\n",
        "3. Accessing Index in a For Loop\n",
        "\n",
        "    Using enumerate() :\n",
        "    To access both the index and value in a for loop:\n",
        "    \n",
        "    \n",
        "    favorites = [\"Cake\", \"Ice Cream\", \"Pie\", \"Brownie\", \"Pudding\"]\n",
        "    for idx, item in enumerate(favorites):\n",
        "    print(f\"{idx}: {item}\")\n",
        "    Output:\n",
        "    0: Cake\n",
        "    1: Ice Cream\n",
        "    ...\n",
        "    "
      ],
      "metadata": {
        "id": "UGPlDyDfVcak"
      }
    },
    {
      "cell_type": "code",
      "source": [
        "#for loop\n",
        "print(\"\\nDictionary Iteration\")\n",
        "d = dict({'x':123, 'y':354})\n",
        "for i in d:\n",
        "    print(\"%s  %d\" % (i, d[i]))\n",
        "\n",
        "#while loop\n",
        "count = 0\n",
        "while (count < 3):\n",
        "    count = count + 1\n",
        "    print(\"Hello\")\n",
        "\n",
        "#using enumerate()\n",
        "favorites = [\"Cake\", \"Ice Cream\", \"Pie\", \"Brownie\", \"Pudding\"]\n",
        "for idx, item in enumerate(favorites):\n",
        "    print(f\"{idx}: {item}\")\n",
        "\n"
      ],
      "metadata": {
        "colab": {
          "base_uri": "https://localhost:8080/"
        },
        "id": "Pdk88M8hYAsX",
        "outputId": "2e75d7b8-8787-4001-b641-091874e30a36"
      },
      "execution_count": null,
      "outputs": [
        {
          "output_type": "stream",
          "name": "stdout",
          "text": [
            "\n",
            "Dictionary Iteration\n",
            "x  123\n",
            "y  354\n",
            "Hello\n",
            "Hello\n",
            "Hello\n",
            "0: Cake\n",
            "1: Ice Cream\n",
            "2: Pie\n",
            "3: Brownie\n",
            "4: Pudding\n"
          ]
        }
      ]
    }
  ]
}