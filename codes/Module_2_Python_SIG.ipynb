{
  "nbformat": 4,
  "nbformat_minor": 0,
  "metadata": {
    "colab": {
      "provenance": []
    },
    "kernelspec": {
      "name": "python3",
      "display_name": "Python 3"
    },
    "language_info": {
      "name": "python"
    }
  },
  "cells": [
    {
      "cell_type": "markdown",
      "source": [
        "#Functions:"
      ],
      "metadata": {
        "id": "U2zXX1uLBHD6"
      }
    },
    {
      "cell_type": "markdown",
      "source": [
        "A function in python is a set of instructions that takes an input and returns an output. They are programmed to perform a specific task, and are called when required.\n",
        "- Keyword to define a function - 'def'\n",
        "- Syntax (to define function) - def function_name (parameters):\n",
        "- Syntax (to call function) - function_name(values)"
      ],
      "metadata": {
        "id": "92nQhaKeK0AL"
      }
    },
    {
      "cell_type": "markdown",
      "source": [
        "Below is a simple function to add two numbers::"
      ],
      "metadata": {
        "id": "cshxXAFAB-cR"
      }
    },
    {
      "cell_type": "code",
      "execution_count": null,
      "metadata": {
        "colab": {
          "base_uri": "https://localhost:8080/"
        },
        "id": "vs54h-ti3j0R",
        "outputId": "e96470bb-a164-44b8-fbf5-e53b003d6098"
      },
      "outputs": [
        {
          "output_type": "execute_result",
          "data": {
            "text/plain": [
              "7"
            ]
          },
          "metadata": {},
          "execution_count": 1
        }
      ],
      "source": [
        "#defining a function\n",
        "def addition(x, y):\n",
        "  return (x+y)\n",
        "\n",
        "#calling a function\n",
        "addition(3,4) #you can edit the values here"
      ]
    },
    {
      "cell_type": "code",
      "source": [
        "#defining a function\n",
        "def calculate_tax(bill, tax_rate):\n",
        "  tax = bill * tax_rate / 100\n",
        "  return tax\n",
        "\n",
        "#calling a function\n",
        "calculate_tax(300,40) #you can edit the values here"
      ],
      "metadata": {
        "colab": {
          "base_uri": "https://localhost:8080/"
        },
        "id": "y9v3ukGLCUyl",
        "outputId": "6a5c373e-ba78-409a-d9ca-ecf7e3461a70"
      },
      "execution_count": null,
      "outputs": [
        {
          "output_type": "execute_result",
          "data": {
            "text/plain": [
              "120.0"
            ]
          },
          "metadata": {},
          "execution_count": 2
        }
      ]
    },
    {
      "cell_type": "markdown",
      "source": [
        "**Benefits of functions:**\n",
        "- Functions promote code reusability. The user can simply call a function they have defined instead of rewriting the same piece of code repetitively.\n",
        "- They maintain modularity of the code.\n",
        "- The code becomes easier to understand and debug."
      ],
      "metadata": {
        "id": "qe8JIvWzD8_Z"
      }
    },
    {
      "cell_type": "markdown",
      "source": [
        "**Points to remember:**\n",
        "- Since a function body is not defined with curly braces, indentations in Python are very important. They define the beginning and end of a function.\n",
        "- Give meaningful names to functions and variables.\n",
        "- Add comments in your code to increase readability."
      ],
      "metadata": {
        "id": "F8RYIyQXC6O5"
      }
    },
    {
      "cell_type": "markdown",
      "source": [
        "**Exercise: Create a function to calculate the average of 5 subjects' marks for students and call it for different student scores.**"
      ],
      "metadata": {
        "id": "w4XYsxFUbQ9e"
      }
    },
    {
      "cell_type": "markdown",
      "source": [
        "#Variable Scopes"
      ],
      "metadata": {
        "id": "0wDYbkHtEXMS"
      }
    },
    {
      "cell_type": "markdown",
      "source": [
        "Scoping refers to controlling the visibility and accessibility of variables within different parts of the program. Types:\n",
        "- Local scope\n",
        "- Global scope\n",
        "- Enclosing scope\n",
        "- Built in scope"
      ],
      "metadata": {
        "id": "4vWBHUniEcGo"
      }
    },
    {
      "cell_type": "markdown",
      "source": [
        "- Local scope refers to variables defined inside a function. Those variables are accessible only from within the function."
      ],
      "metadata": {
        "id": "_GwIXLixGy3y"
      }
    },
    {
      "cell_type": "code",
      "source": [
        "def scopes():\n",
        "  local_v = 8\n",
        "  return local_v #returns variable defined within function\n",
        "\n",
        "print(scopes())"
      ],
      "metadata": {
        "colab": {
          "base_uri": "https://localhost:8080/"
        },
        "id": "SJ6IQOYIG-VS",
        "outputId": "6dd8bfc1-1147-4841-f6d9-c70464ff0ca2"
      },
      "execution_count": null,
      "outputs": [
        {
          "output_type": "stream",
          "name": "stdout",
          "text": [
            "8\n"
          ]
        }
      ]
    },
    {
      "cell_type": "markdown",
      "source": [
        "- Global scope variable is a variable that is defined within the main body of a function and is accessible to all parts of the code.\n",
        "- Global scope example:"
      ],
      "metadata": {
        "id": "jRboz2gXE3r6"
      }
    },
    {
      "cell_type": "code",
      "source": [
        "my_global = 10\n",
        "def scopes():\n",
        "  my_local = 5\n",
        "  print(my_global)\n",
        "  print(my_local)\n",
        "\n",
        "scopes() #prints 10 and 5\n",
        "print(my_local) #returns an error as variable is locally defined (in function 'scopes')"
      ],
      "metadata": {
        "id": "H5yFisg5C4eS"
      },
      "execution_count": null,
      "outputs": []
    },
    {
      "cell_type": "markdown",
      "source": [
        "Enclosing scope: In the example given below, func2 is defined inside func1, giving it access to variables defined within func1. This is known as enclosing scope."
      ],
      "metadata": {
        "id": "W-XnF0pPGQ4K"
      }
    },
    {
      "cell_type": "code",
      "source": [
        "def func1():\n",
        "  enclosed_v = 8\n",
        "  def func2():\n",
        "    print(enclosed_v)\n",
        "  func2()\n",
        "\n",
        "func1() #prints 8"
      ],
      "metadata": {
        "colab": {
          "base_uri": "https://localhost:8080/"
        },
        "id": "SeTDsw-yGDwq",
        "outputId": "62789447-84e9-43f1-c15b-489ba87399f9"
      },
      "execution_count": null,
      "outputs": [
        {
          "output_type": "stream",
          "name": "stdout",
          "text": [
            "8\n"
          ]
        }
      ]
    },
    {
      "cell_type": "markdown",
      "source": [
        "Variable defined inside func2 cannot be accessed by func1."
      ],
      "metadata": {
        "id": "tqfhQpumGpTr"
      }
    },
    {
      "cell_type": "code",
      "source": [
        "def func1():\n",
        "  enclosed_v = 8\n",
        "  def func2():\n",
        "    enclosed_v2 = 10\n",
        "    print(enclosed_v)\n",
        "  func2()\n",
        "  print(enclosed_v2) #returns an error as variable is locally defined (in function 'func2')\n",
        "\n",
        "func1() #prints 8"
      ],
      "metadata": {
        "id": "kUU9rFhTGMFK"
      },
      "execution_count": null,
      "outputs": []
    },
    {
      "cell_type": "markdown",
      "source": [
        "Built in scope refers to functions and exceptions that are always available in Python, and can be accessed anywhere throughout the program. Examples are print, len, def, etc."
      ],
      "metadata": {
        "id": "Qm_JQbKWHOlC"
      }
    },
    {
      "cell_type": "code",
      "source": [
        "def built_in_scope():\n",
        "  print(\"Built in scope\")\n",
        "  print(len(\"Built in scope\")) #prints length of string\n",
        "\n",
        "built_in_scope()"
      ],
      "metadata": {
        "colab": {
          "base_uri": "https://localhost:8080/"
        },
        "id": "LppBPqeMHeDP",
        "outputId": "1c4a9ed8-9e20-48a1-dc36-f5124074a7f6"
      },
      "execution_count": null,
      "outputs": [
        {
          "output_type": "stream",
          "name": "stdout",
          "text": [
            "Built in scope\n",
            "14\n"
          ]
        }
      ]
    },
    {
      "cell_type": "markdown",
      "source": [
        "#Lists"
      ],
      "metadata": {
        "id": "AoM2ESSLHzO6"
      }
    },
    {
      "cell_type": "markdown",
      "source": [
        "A list in Python is a dynamic array that can store elements of different or same data type."
      ],
      "metadata": {
        "id": "sSilLyawH07K"
      }
    },
    {
      "cell_type": "markdown",
      "source": [
        "- Lists are declared using square brackets: list = [1,2,3]\n"
      ],
      "metadata": {
        "id": "tq5Fw_L2H8Y5"
      }
    },
    {
      "cell_type": "markdown",
      "source": [
        "Operations on lists:"
      ],
      "metadata": {
        "id": "tMyy_wi6ILip"
      }
    },
    {
      "cell_type": "code",
      "source": [
        "list1 = [1,2,3]\n",
        "list2 = ['Hello', 'World']\n",
        "list3 = [1,2,3, 'Hello', 'World']\n",
        "print(list1)\n",
        "print(list2)\n",
        "print(list3)"
      ],
      "metadata": {
        "colab": {
          "base_uri": "https://localhost:8080/"
        },
        "id": "pfAr2EeTHsnC",
        "outputId": "df8054fd-c151-4f15-bba5-8973d35dba26"
      },
      "execution_count": null,
      "outputs": [
        {
          "output_type": "stream",
          "name": "stdout",
          "text": [
            "[1, 2, 3]\n",
            "['Hello', 'World']\n",
            "[1, 2, 3, 'Hello', 'World']\n"
          ]
        }
      ]
    },
    {
      "cell_type": "markdown",
      "source": [
        "Indexing in lists begins from 0. For list1:\n",
        "- 0 index: 1\n",
        "- 1 index: 2\n",
        "- 2 index: 3"
      ],
      "metadata": {
        "id": "IwmPfzHaIj6R"
      }
    },
    {
      "cell_type": "code",
      "source": [
        "print(list1[0])\n",
        "print(list3[3])"
      ],
      "metadata": {
        "colab": {
          "base_uri": "https://localhost:8080/"
        },
        "id": "uk7OiHEMIXn1",
        "outputId": "e160c3ef-f46a-4fc2-9744-a979fd8a4262"
      },
      "execution_count": null,
      "outputs": [
        {
          "output_type": "stream",
          "name": "stdout",
          "text": [
            "1\n",
            "Hello\n"
          ]
        }
      ]
    },
    {
      "cell_type": "markdown",
      "source": [
        "Nested lists: Lists can contain other lists as elements"
      ],
      "metadata": {
        "id": "i8oAQHhkIuJS"
      }
    },
    {
      "cell_type": "code",
      "source": [
        "list4 = [1, 2, 3, ['a', 'b', 'c'], 4, 5, 6]\n",
        "print(list4)"
      ],
      "metadata": {
        "colab": {
          "base_uri": "https://localhost:8080/"
        },
        "id": "CBAErUsJIiuk",
        "outputId": "5cc6b4a8-8ad9-4095-a75e-863ee16801e1"
      },
      "execution_count": null,
      "outputs": [
        {
          "output_type": "stream",
          "name": "stdout",
          "text": [
            "[1, 2, 3, ['a', 'b', 'c'], 4, 5, 6]\n"
          ]
        }
      ]
    },
    {
      "cell_type": "markdown",
      "source": [
        "**Keyword operations on lists**\n",
        "- insert(index, value) : inserts value at particular index\n",
        "- append(value) : adds value to end of list\n",
        "- extend([values]) : adds multiple values to end of list"
      ],
      "metadata": {
        "id": "3gbrG5TaJqjC"
      }
    },
    {
      "cell_type": "code",
      "source": [
        "#inserting elements in a list:\n",
        "list1.insert(2, 'Hello')\n",
        "print(list4)\n",
        "#appending elements to a list:\n",
        "list4.append('World')\n",
        "print(list1)\n",
        "#adding multiple values to a list:\n",
        "list1.extend([4,5,6])\n",
        "print(list1)"
      ],
      "metadata": {
        "colab": {
          "base_uri": "https://localhost:8080/"
        },
        "id": "jlO4oaFuI6W0",
        "outputId": "82d0fa43-1909-4bc0-e4a5-80c2f440d3cc"
      },
      "execution_count": null,
      "outputs": [
        {
          "output_type": "stream",
          "name": "stdout",
          "text": [
            "[1, 2, 3, ['a', 'b', 'c'], 4, 5, 6]\n",
            "[1, 2, 'Hello', 3]\n",
            "[1, 2, 'Hello', 3, 4, 5, 6]\n"
          ]
        }
      ]
    },
    {
      "cell_type": "markdown",
      "source": [
        "**Removing items in a list**\n",
        "- pop(index): deletes/ pops value at a particular index\n",
        "- del list[index]: deletes item at specified index"
      ],
      "metadata": {
        "id": "ZD088YSpKA56"
      }
    },
    {
      "cell_type": "code",
      "source": [
        "#pop\n",
        "list1.pop(2)\n",
        "print(list1)\n",
        "#del\n",
        "del list1[0]\n",
        "print(list1)"
      ],
      "metadata": {
        "colab": {
          "base_uri": "https://localhost:8080/"
        },
        "id": "G-ChK6aBJ-jr",
        "outputId": "30061472-aa35-4409-fb7c-a1d471e064ef"
      },
      "execution_count": null,
      "outputs": [
        {
          "output_type": "stream",
          "name": "stdout",
          "text": [
            "[1, 2, 3, 4, 5, 6]\n",
            "[2, 3, 4, 5, 6]\n"
          ]
        }
      ]
    },
    {
      "cell_type": "markdown",
      "source": [
        "**Iterating through loops**\n",
        "- Syntax - for x in list_name:"
      ],
      "metadata": {
        "id": "hbnw1KrvKZfa"
      }
    },
    {
      "cell_type": "code",
      "source": [
        "for i in list1:\n",
        "  print(i)"
      ],
      "metadata": {
        "colab": {
          "base_uri": "https://localhost:8080/"
        },
        "id": "4Y7UxlLNKXxW",
        "outputId": "7d50d515-8f69-40fa-9368-f5db2d965c0e"
      },
      "execution_count": null,
      "outputs": [
        {
          "output_type": "stream",
          "name": "stdout",
          "text": [
            "2\n",
            "3\n",
            "4\n",
            "5\n",
            "6\n"
          ]
        }
      ]
    },
    {
      "cell_type": "markdown",
      "source": [
        "#Sets"
      ],
      "metadata": {
        "id": "f3d1ABxYK2LR"
      }
    },
    {
      "cell_type": "markdown",
      "source": [
        "Sets in python are used to store unique values. They are defined with curly braces."
      ],
      "metadata": {
        "id": "i7OMUvJiLG89"
      }
    },
    {
      "cell_type": "code",
      "source": [
        "set1 = {1, 2, 3}\n",
        "print(set1)"
      ],
      "metadata": {
        "colab": {
          "base_uri": "https://localhost:8080/"
        },
        "id": "RRvqqQ9DLOOV",
        "outputId": "f162e429-0059-4539-9390-29a895078b2d"
      },
      "execution_count": null,
      "outputs": [
        {
          "output_type": "stream",
          "name": "stdout",
          "text": [
            "{1, 2, 3}\n"
          ]
        }
      ]
    },
    {
      "cell_type": "markdown",
      "source": [
        "**Key features**\n",
        "- No duplicates (if any element is added, it is automatically removed)\n",
        "- Unordered (they do not follow any particular order)\n",
        "- Non subscriptable (sets do not support indexing, trying to do so results in TypeError)"
      ],
      "metadata": {
        "id": "wqTwgIouLjya"
      }
    },
    {
      "cell_type": "code",
      "source": [
        "#no duplicates\n",
        "set2 = {1, 2, 3, 3}\n",
        "print(set2)\n",
        "#unordered\n",
        "set3 = {3, 2, 1}\n",
        "print(set3)"
      ],
      "metadata": {
        "colab": {
          "base_uri": "https://localhost:8080/"
        },
        "id": "gzEK0BK7MU6Q",
        "outputId": "9c9f6538-f644-4311-b3ee-581c812f9fd8"
      },
      "execution_count": null,
      "outputs": [
        {
          "output_type": "stream",
          "name": "stdout",
          "text": [
            "{1, 2, 3}\n",
            "{1, 2, 3}\n"
          ]
        }
      ]
    },
    {
      "cell_type": "code",
      "source": [
        "#non subscriptable\n",
        "print(set3[0])  #throws TypeError"
      ],
      "metadata": {
        "id": "EVWsrifQMhIq"
      },
      "execution_count": null,
      "outputs": []
    },
    {
      "cell_type": "markdown",
      "source": [
        "**Set operations**\n",
        "- Adding elements can be done with add(value) built-in function\n",
        "- Removing elements with remove(value) function\n",
        "- Trying to remove a value that does not exist throws an error"
      ],
      "metadata": {
        "id": "oAjBKSVbMgwi"
      }
    },
    {
      "cell_type": "code",
      "source": [
        "#adding elements\n",
        "set1.add(4)\n",
        "print(set1)\n",
        "#removing elements\n",
        "set1.remove(4)\n",
        "print(set1)"
      ],
      "metadata": {
        "colab": {
          "base_uri": "https://localhost:8080/"
        },
        "id": "aKiNkwPBM3OC",
        "outputId": "68a26c6b-b69d-40db-fbcc-426b28bd33ee"
      },
      "execution_count": null,
      "outputs": [
        {
          "output_type": "stream",
          "name": "stdout",
          "text": [
            "{1, 2, 3, 4}\n",
            "{1, 2, 3}\n"
          ]
        }
      ]
    },
    {
      "cell_type": "code",
      "source": [
        "#removing element that does not exist\n",
        "set1.remove(5)"
      ],
      "metadata": {
        "id": "YI0XbHhHNIDC"
      },
      "execution_count": null,
      "outputs": []
    },
    {
      "cell_type": "markdown",
      "source": [
        "**Mathematical operations on sets:**\n",
        "- union(set): combines two sets\n",
        "- intersection(set): returns common values in both sets\n",
        "- difference(set): return values in one set not present in other set"
      ],
      "metadata": {
        "id": "hWveDrf3NJ5y"
      }
    },
    {
      "cell_type": "code",
      "source": [
        "#union\n",
        "set4 = {3, 4, 5, 6}\n",
        "print(set1.union(set4))\n",
        "#intersection\n",
        "print(set1.intersection(set4))\n",
        "#difference\n",
        "print(set1.difference(set4))"
      ],
      "metadata": {
        "colab": {
          "base_uri": "https://localhost:8080/"
        },
        "id": "HOTet5aoNbUC",
        "outputId": "d30cc63b-604f-40e0-dbe0-c4e1cdc105dd"
      },
      "execution_count": null,
      "outputs": [
        {
          "output_type": "stream",
          "name": "stdout",
          "text": [
            "{1, 2, 3, 4, 5, 6}\n",
            "{3}\n",
            "{1, 2}\n"
          ]
        }
      ]
    },
    {
      "cell_type": "markdown",
      "source": [
        "**Exercise: Initialize two sets: one with names of students who play football and the other with those who play basketball. Find:**\n",
        "- **Students who play both basketball and football.**\n",
        "- **Number of students who play basketball but not football.**\n",
        "- **Students who play basketball and football.**"
      ],
      "metadata": {
        "id": "adQWYA_wb1LO"
      }
    },
    {
      "cell_type": "markdown",
      "source": [
        "#Tuples"
      ],
      "metadata": {
        "id": "bqGTgwFXK6lS"
      }
    },
    {
      "cell_type": "markdown",
      "source": [
        "Tuples are used to store different types of data and are commonly employed in data structures.\n",
        "- They are declared using parenthesis() and can hold different data types like string, int, float, bool. etc."
      ],
      "metadata": {
        "id": "XfKl4C73NnfK"
      }
    },
    {
      "cell_type": "code",
      "source": [
        "#declaring a tuple\n",
        "tuple1 = (1, 2, 3)\n",
        "#accessing elements in a tuple by indexing\n",
        "print(tuple1[0])"
      ],
      "metadata": {
        "colab": {
          "base_uri": "https://localhost:8080/"
        },
        "id": "ELkYONPzOD4y",
        "outputId": "99e2d401-4c13-4e2e-eb54-c6dfc783d06e"
      },
      "execution_count": null,
      "outputs": [
        {
          "output_type": "stream",
          "name": "stdout",
          "text": [
            "1\n"
          ]
        }
      ]
    },
    {
      "cell_type": "markdown",
      "source": [
        "**Tuple methods**\n",
        "- count(value) - returns the number of times a particular value has occured within a tuple\n",
        "- index(value) - returns index of first occurence of a value in a tuple"
      ],
      "metadata": {
        "id": "KMSqBIvBOSPa"
      }
    },
    {
      "cell_type": "code",
      "source": [
        "my_tuple = ('a', 'p', 'p', 'l', 'e')\n",
        "print(\"Number of times 'p' occurs in tuple:\", my_tuple.count('p'))\n",
        "print(\"Firsr occurence of 'p' in tuple:\", my_tuple.index('p'))"
      ],
      "metadata": {
        "colab": {
          "base_uri": "https://localhost:8080/"
        },
        "id": "ttxH1CqOOcn7",
        "outputId": "c97f268a-2e5e-4374-84bc-7ae97dfc5152"
      },
      "execution_count": null,
      "outputs": [
        {
          "output_type": "stream",
          "name": "stdout",
          "text": [
            "Number of times 'p' occurs in tuple: 2\n",
            "Firsr occurence of 'p' in tuple: 1\n"
          ]
        }
      ]
    },
    {
      "cell_type": "code",
      "source": [
        "#iterating over tuples\n",
        "for i in my_tuple:\n",
        "  print(i)"
      ],
      "metadata": {
        "colab": {
          "base_uri": "https://localhost:8080/"
        },
        "id": "EzE-h2vPO2xD",
        "outputId": "06da8a25-f93b-4e49-948f-17682400070a"
      },
      "execution_count": null,
      "outputs": [
        {
          "output_type": "stream",
          "name": "stdout",
          "text": [
            "a\n",
            "p\n",
            "p\n",
            "l\n",
            "e\n"
          ]
        }
      ]
    },
    {
      "cell_type": "markdown",
      "source": [
        "**Important property of tuples**\n",
        "- A tuple is immutable, i.e. the value of an element in a tuple cannot be changed after it has already been defined. Doing so will result in TypeError."
      ],
      "metadata": {
        "id": "s3XK3h_KO7ip"
      }
    },
    {
      "cell_type": "code",
      "source": [
        "#immutability of tuples\n",
        "my_tuple[0] = 'b'"
      ],
      "metadata": {
        "id": "YpPJtFFvPMbd"
      },
      "execution_count": null,
      "outputs": []
    },
    {
      "cell_type": "markdown",
      "source": [
        "#Dictionaries"
      ],
      "metadata": {
        "id": "tBUe9yc6K89h"
      }
    },
    {
      "cell_type": "markdown",
      "source": [
        "A dictionary is a collection of key value pairs where keys are unique and values can be of any data type:\n",
        "- They are enclosed within curly braces.\n",
        "- Syntax - {key: 'value'}"
      ],
      "metadata": {
        "id": "qnwNe9THPV4K"
      }
    },
    {
      "cell_type": "code",
      "source": [
        "my_dict = {'name': 'Sania', 'age': 18, 'city': 'Pune'}\n",
        "print(my_dict)\n",
        "my_dict2 = {1: 'PASC', 2: 'Python', 3: 'SIG'}\n",
        "print(my_dict2)"
      ],
      "metadata": {
        "colab": {
          "base_uri": "https://localhost:8080/"
        },
        "id": "7eV3uYUkPnXT",
        "outputId": "fafa8fa5-526f-4074-b1d7-2ab35cc8a0fc"
      },
      "execution_count": null,
      "outputs": [
        {
          "output_type": "stream",
          "name": "stdout",
          "text": [
            "{'name': 'Sania', 'age': 18, 'city': 'Pune'}\n",
            "{1: 'PASC', 2: 'Python', 3: 'SIG'}\n"
          ]
        }
      ]
    },
    {
      "cell_type": "markdown",
      "source": [
        "**Operations on tuple**\n",
        "- Accessing items\n",
        "- Updating items\n",
        "- Appending items\n",
        "- Deleting items"
      ],
      "metadata": {
        "id": "SAg688ftP7Qa"
      }
    },
    {
      "cell_type": "code",
      "source": [
        "#accessing items\n",
        "print(my_dict['name']) #accessing through key\n",
        "print(my_dict2[2])\n"
      ],
      "metadata": {
        "colab": {
          "base_uri": "https://localhost:8080/"
        },
        "id": "9YWS7HArQMgz",
        "outputId": "2a8f16e9-e4b2-4425-cf02-a722db330ae5"
      },
      "execution_count": null,
      "outputs": [
        {
          "output_type": "stream",
          "name": "stdout",
          "text": [
            "Sania\n",
            "Python\n"
          ]
        }
      ]
    },
    {
      "cell_type": "code",
      "source": [
        "#updating items\n",
        "my_dict['age'] = 19\n",
        "print(my_dict)"
      ],
      "metadata": {
        "colab": {
          "base_uri": "https://localhost:8080/"
        },
        "id": "Y8ui_61TQh-T",
        "outputId": "dde39003-7d8b-4fc5-ac15-242b8fcf1daf"
      },
      "execution_count": null,
      "outputs": [
        {
          "output_type": "stream",
          "name": "stdout",
          "text": [
            "{'name': 'Sania', 'age': 19, 'city': 'Pune'}\n"
          ]
        }
      ]
    },
    {
      "cell_type": "code",
      "source": [
        "#appending items\n",
        "my_dict['country'] = 'India'\n",
        "print(my_dict)"
      ],
      "metadata": {
        "colab": {
          "base_uri": "https://localhost:8080/"
        },
        "id": "U8xuAiRYQiXz",
        "outputId": "d00f8903-c17b-4800-c353-851df84fe304"
      },
      "execution_count": null,
      "outputs": [
        {
          "output_type": "stream",
          "name": "stdout",
          "text": [
            "{'name': 'Sania', 'age': 19, 'city': 'Pune', 'country': 'India'}\n"
          ]
        }
      ]
    },
    {
      "cell_type": "code",
      "source": [
        "#deleting items\n",
        "del my_dict['country']\n",
        "print(my_dict)"
      ],
      "metadata": {
        "colab": {
          "base_uri": "https://localhost:8080/"
        },
        "id": "Ohy5yJsSQjzT",
        "outputId": "52f7c05c-92a7-4438-c75d-0b2548cdaad2"
      },
      "execution_count": null,
      "outputs": [
        {
          "output_type": "stream",
          "name": "stdout",
          "text": [
            "{'name': 'Sania', 'age': 19, 'city': 'Pune'}\n"
          ]
        }
      ]
    },
    {
      "cell_type": "markdown",
      "source": [
        "Iterating through dictionaries can be done through:\n",
        "- keys only\n",
        "- keys and values"
      ],
      "metadata": {
        "id": "xCWcYk8NRLzS"
      }
    },
    {
      "cell_type": "code",
      "source": [
        "#iterating with keys only\n",
        "for i in my_dict: #i represents key\n",
        "  print(i)\n",
        "#iterating with keys and values\n",
        "for i, j in my_dict.items(): #i represents key and j represents value\n",
        "  print(i, j)"
      ],
      "metadata": {
        "colab": {
          "base_uri": "https://localhost:8080/"
        },
        "id": "J9Oo6_JURRub",
        "outputId": "c2b83d60-ffab-4ba4-ff92-c415a1d317b6"
      },
      "execution_count": null,
      "outputs": [
        {
          "output_type": "stream",
          "name": "stdout",
          "text": [
            "name\n",
            "age\n",
            "city\n",
            "name Sania\n",
            "age 19\n",
            "city Pune\n"
          ]
        }
      ]
    },
    {
      "cell_type": "markdown",
      "source": [
        "Duplicate keys are not allowed in dictionaries. They automatically update value of an existing key."
      ],
      "metadata": {
        "id": "vGvMLd7TRj-r"
      }
    },
    {
      "cell_type": "markdown",
      "source": [
        "**Built-in methods of keys:**\n",
        "- keys(): returns all keys\n",
        "- values(): returns all values\n",
        "- items(): returns all key-value pairs"
      ],
      "metadata": {
        "id": "w9zEN5IOR0Ci"
      }
    },
    {
      "cell_type": "code",
      "source": [
        "#keys()\n",
        "print(my_dict.keys())\n",
        "#values()\n",
        "print(my_dict.values())\n",
        "#items()\n",
        "print(my_dict.items())"
      ],
      "metadata": {
        "colab": {
          "base_uri": "https://localhost:8080/"
        },
        "id": "P8vN8NBmR-pC",
        "outputId": "a06e931a-de1e-4931-cedc-aeb9ecb8f09c"
      },
      "execution_count": null,
      "outputs": [
        {
          "output_type": "stream",
          "name": "stdout",
          "text": [
            "dict_keys(['name', 'age', 'city'])\n",
            "dict_values(['Sania', 19, 'Pune'])\n",
            "dict_items([('name', 'Sania'), ('age', 19), ('city', 'Pune')])\n"
          ]
        }
      ]
    },
    {
      "cell_type": "markdown",
      "source": [
        "#args and kwargs"
      ],
      "metadata": {
        "id": "n4GgxETeK_Gt"
      }
    },
    {
      "cell_type": "markdown",
      "source": [
        "- *args (non-keyword arguments): allows function to accept a variable number of positional arguments\n",
        "- arguments are accessible as a tuple within the function"
      ],
      "metadata": {
        "id": "aNZ6xbVgSW6K"
      }
    },
    {
      "cell_type": "code",
      "source": [
        "#defining args and example usage of addition function\n",
        "def addition(*args):\n",
        "  result = 0\n",
        "  for i in args:\n",
        "    result += i\n",
        "  return result\n",
        "\n",
        "print(addition(1,2,3,4,5)) #returns sum of all numbers"
      ],
      "metadata": {
        "colab": {
          "base_uri": "https://localhost:8080/"
        },
        "id": "SYyEjp6KSlgK",
        "outputId": "cecf6e40-8f5f-41b4-d71d-f67a81256025"
      },
      "execution_count": null,
      "outputs": [
        {
          "output_type": "stream",
          "name": "stdout",
          "text": [
            "15\n"
          ]
        }
      ]
    },
    {
      "cell_type": "markdown",
      "source": [
        "- *kwargs - allows function to accept a variable number of keyword arguments\n",
        "- accessible as a dictionary within the function where keys are argument names and values are corresponding values\n"
      ],
      "metadata": {
        "id": "h0aTlwYZS3UR"
      }
    },
    {
      "cell_type": "code",
      "source": [
        "def calculate_bill(**kwargs):\n",
        "  total_bill = 0\n",
        "  for key, value in kwargs.items():\n",
        "    total_bill += value\n",
        "  return total_bill\n",
        "\n",
        "print(calculate_bill(item1 = 100, item2 = 200, item3 = 300))\n"
      ],
      "metadata": {
        "colab": {
          "base_uri": "https://localhost:8080/"
        },
        "id": "ZTklN-xaK5Wj",
        "outputId": "49b56a63-aec9-46c3-b545-09d17f4ff994"
      },
      "execution_count": null,
      "outputs": [
        {
          "output_type": "stream",
          "name": "stdout",
          "text": [
            "600\n"
          ]
        }
      ]
    },
    {
      "cell_type": "code",
      "source": [
        "#combined usage of args and kwargs\n",
        "def combined_usage(*args, **kwargs):\n",
        "  result = 0\n",
        "  for i in args:\n",
        "    result += i\n",
        "  for key, value in kwargs.items():\n",
        "    result += value\n",
        "  return result\n",
        "\n",
        "print(combined_usage(1,2,3,4,5, item1 = 100, item2 = 200, item3 = 300))"
      ],
      "metadata": {
        "colab": {
          "base_uri": "https://localhost:8080/"
        },
        "id": "s39FRnmjTTJb",
        "outputId": "ff1801d9-b4ec-4641-d820-cae84702f543"
      },
      "execution_count": null,
      "outputs": [
        {
          "output_type": "stream",
          "name": "stdout",
          "text": [
            "615\n"
          ]
        }
      ]
    },
    {
      "cell_type": "markdown",
      "source": [
        "**Exercise: Define a function with variable number of positional arguments to calculate total marks of a student.**"
      ],
      "metadata": {
        "id": "ugZpAgrjcXmO"
      }
    },
    {
      "cell_type": "markdown",
      "source": [
        "#Errors and Exceptions"
      ],
      "metadata": {
        "id": "VFCxd-xkTyb9"
      }
    },
    {
      "cell_type": "markdown",
      "source": [
        "An error occurs when there is some fundamental issue with the code, that prevents it from running."
      ],
      "metadata": {
        "id": "eFTWdz2XT1Tb"
      }
    },
    {
      "cell_type": "code",
      "source": [
        "#syntax error\n",
        "print('Hello World)\n",
        "#returns error as string is not enclosed properly in ''"
      ],
      "metadata": {
        "id": "vGsSK8GOT-ez"
      },
      "execution_count": null,
      "outputs": []
    },
    {
      "cell_type": "markdown",
      "source": [
        "An exception is what occurs during the execution of a program that disrupts the flow of a program."
      ],
      "metadata": {
        "id": "A6r2Ahg5ULLL"
      }
    },
    {
      "cell_type": "code",
      "source": [
        "#division by zero error\n",
        "print(5/0)"
      ],
      "metadata": {
        "id": "M0nJg3ojUH1E"
      },
      "execution_count": null,
      "outputs": []
    },
    {
      "cell_type": "code",
      "source": [
        "#file not found error\n",
        "open('hello.txt') #trying to open a file that does not exist"
      ],
      "metadata": {
        "id": "Gkm_peveUiK0"
      },
      "execution_count": null,
      "outputs": []
    },
    {
      "cell_type": "code",
      "source": [
        "#value error\n",
        "int('hello') #trying to convert string to int"
      ],
      "metadata": {
        "id": "CNnAgowhUolU"
      },
      "execution_count": null,
      "outputs": []
    },
    {
      "cell_type": "code",
      "source": [
        "#index error\n",
        "list1 = [1,2,3]\n",
        "print(list1[3]) #trying to access index that does not exist"
      ],
      "metadata": {
        "id": "j3vVTRcnUtqs"
      },
      "execution_count": null,
      "outputs": []
    },
    {
      "cell_type": "markdown",
      "source": [
        "**Exception Handling**\n",
        "- try and except block:\n",
        "- The code that might raise exceptions is defined within the try block.\n",
        "- The except block handles the case in which an exception is raised."
      ],
      "metadata": {
        "id": "Bx-nD1-ZUwus"
      }
    },
    {
      "cell_type": "code",
      "source": [
        "#exception handling with try and except\n",
        "try:\n",
        "  print(5/0)\n",
        "except ZeroDivisionError:\n",
        "  print(\"Cannot divide by zero\")"
      ],
      "metadata": {
        "colab": {
          "base_uri": "https://localhost:8080/"
        },
        "id": "MyVBytxFTb3F",
        "outputId": "bb1cc2cf-3d8e-4939-cd66-92ff5230c140"
      },
      "execution_count": null,
      "outputs": [
        {
          "output_type": "stream",
          "name": "stdout",
          "text": [
            "Cannot divide by zero\n"
          ]
        }
      ]
    },
    {
      "cell_type": "code",
      "source": [
        "#accessing exception details\n",
        "try:\n",
        "  print(5/0)\n",
        "except ZeroDivisionError as e:\n",
        "  print(\"Cannot divide by zero\")\n",
        "  print(e)"
      ],
      "metadata": {
        "colab": {
          "base_uri": "https://localhost:8080/"
        },
        "id": "gpWXqfM5VWLc",
        "outputId": "45eaa1c0-ee54-4567-d92a-fdb0b7fb14a8"
      },
      "execution_count": null,
      "outputs": [
        {
          "output_type": "stream",
          "name": "stdout",
          "text": [
            "Cannot divide by zero\n",
            "division by zero\n"
          ]
        }
      ]
    },
    {
      "cell_type": "code",
      "source": [
        "#catching multiple exceptions\n",
        "try:\n",
        "  print(5/\"10\") #print(5/0)\n",
        "except (ZeroDivisionError):\n",
        "  print(\"Cannot divide by zero\")\n",
        "except (TypeError):\n",
        "  print(\"Type Error\")"
      ],
      "metadata": {
        "colab": {
          "base_uri": "https://localhost:8080/"
        },
        "id": "h3QMdiWtVaBR",
        "outputId": "4a460221-6c2a-4312-c5c4-f6e64865b581"
      },
      "execution_count": null,
      "outputs": [
        {
          "output_type": "stream",
          "name": "stdout",
          "text": [
            "Type Error\n"
          ]
        }
      ]
    },
    {
      "cell_type": "code",
      "source": [
        "#catching all exceptions\n",
        "try:\n",
        "  print(5/\"10\") #print(5/0)\n",
        "except Exception as e:\n",
        "  print(e)"
      ],
      "metadata": {
        "colab": {
          "base_uri": "https://localhost:8080/"
        },
        "id": "Ibtk9D70VmDL",
        "outputId": "d76cef7e-efe4-4d73-eccf-7a8f55b87603"
      },
      "execution_count": null,
      "outputs": [
        {
          "output_type": "stream",
          "name": "stdout",
          "text": [
            "unsupported operand type(s) for /: 'int' and 'str'\n"
          ]
        }
      ]
    },
    {
      "cell_type": "markdown",
      "source": [
        "#Creating files"
      ],
      "metadata": {
        "id": "LR-ip4fQWBt9"
      }
    },
    {
      "cell_type": "markdown",
      "source": [
        "Python has built in file handling capabilities that makes it simple to create files and edit them."
      ],
      "metadata": {
        "id": "78MqokTLWF2k"
      }
    },
    {
      "cell_type": "markdown",
      "source": [
        "**Creating a file**\n",
        "- Syntax - with open (\"file_name\", mode) as file_name:"
      ],
      "metadata": {
        "id": "o0Uwj06HWSn8"
      }
    },
    {
      "cell_type": "code",
      "source": [
        "#creating a file\n",
        "with open(\"file.txt\", 'w') as file: #w is write mode\n",
        "  file.write(\"Hello World\")"
      ],
      "metadata": {
        "id": "iHWmsg9jWFOF"
      },
      "execution_count": null,
      "outputs": []
    },
    {
      "cell_type": "markdown",
      "source": [
        "Open files on the left side bar to check the file created."
      ],
      "metadata": {
        "id": "XADUzVOQWsvj"
      }
    },
    {
      "cell_type": "markdown",
      "source": [
        "**Writing in files**\n",
        "- write() - writes in the file\n",
        "- writelines() - adds multiple lines in a list"
      ],
      "metadata": {
        "id": "8XMVGhmsWxRs"
      }
    },
    {
      "cell_type": "code",
      "source": [
        "#example usage of write and writelines\n",
        "with open(\"file.txt\", 'a') as file: #a is append mode\n",
        "  file.write(\"\\nI am a member of PASC.\")\n",
        "  file.writelines([\"\\n\", \"I am a member of Python SIG.\"])"
      ],
      "metadata": {
        "id": "VuUgxOCRWn6v"
      },
      "execution_count": null,
      "outputs": []
    },
    {
      "cell_type": "markdown",
      "source": [
        "Note:\n",
        "- 'w' is for writing in files. If you have already created a file, and try to open it again in 'w', you will overwrite over existing contents i.e. your current contents will be deleted and will be replaced with new contents.\n",
        "- 'a' is for appending files. It allows you to append data to a file already containing data."
      ],
      "metadata": {
        "id": "Om8ElACbXbJ8"
      }
    },
    {
      "cell_type": "code",
      "source": [
        "#exception handling in file opening\n",
        "try:\n",
        "  with open(\"hello.txt\", 'r') as file:\n",
        "    print(file.read())\n",
        "except FileNotFoundError:\n",
        "  print(\"File does not exist\")"
      ],
      "metadata": {
        "id": "frwuj8PZXTdN"
      },
      "execution_count": null,
      "outputs": []
    },
    {
      "cell_type": "markdown",
      "source": [
        "You can make files within a directory. If the directory you want to open does not exist, you can make it using os.makedirs()."
      ],
      "metadata": {
        "id": "oLafMSZ6X8_b"
      }
    },
    {
      "cell_type": "code",
      "source": [
        "import os\n",
        "\n",
        "directory = \"sample_dir\"\n",
        "\n",
        "if not os.path.exists(directory):\n",
        "  os.makedirs(directory)\n",
        "\n",
        "with open(f\"{directory}/newfile.txt\", 'w') as file:\n",
        "  file.write(\"Hello World\")"
      ],
      "metadata": {
        "id": "MJwL9K-pYG2X"
      },
      "execution_count": null,
      "outputs": []
    },
    {
      "cell_type": "markdown",
      "source": [
        "#File Handling"
      ],
      "metadata": {
        "id": "Q70FvSB3Yknc"
      }
    },
    {
      "cell_type": "markdown",
      "source": [
        "File modes:\n",
        "- r: read only mode\n",
        "- b: binary (0s and 1s)\n",
        "- w: writing\n",
        "- a: appending\n",
        "- r+: reading and writing\n",
        "- wb: writing in binary format\n",
        "- rb: reading in binary format\n",
        "- ab: appending in binary format"
      ],
      "metadata": {
        "id": "DIQUdLMSYmK8"
      }
    },
    {
      "cell_type": "markdown",
      "source": [
        "Closing a file:\n",
        "- It is important to close a file after use to ensure all resources are released.\n",
        "- Syntax - close()"
      ],
      "metadata": {
        "id": "478X_GBzY_B1"
      }
    },
    {
      "cell_type": "code",
      "source": [
        "#closing files\n",
        "with open(\"file.txt\", 'r') as file:\n",
        "  print(file.read())\n",
        "file.close()"
      ],
      "metadata": {
        "colab": {
          "base_uri": "https://localhost:8080/"
        },
        "id": "1tvFQXKUY-e1",
        "outputId": "6d5e1dd3-5590-4180-9c7e-d540db1ca089"
      },
      "execution_count": null,
      "outputs": [
        {
          "output_type": "stream",
          "name": "stdout",
          "text": [
            "Hello WorldI am a member of PASC.\n",
            "I am a member of Python SIG.\n",
            "I am a member of PASC.\n",
            "I am a member of Python SIG.\n"
          ]
        }
      ]
    },
    {
      "cell_type": "markdown",
      "source": [
        "Using with open function ensures that a file is automatically closed after usage. It handles exceptions effectively."
      ],
      "metadata": {
        "id": "uUzvw_pxZPMd"
      }
    },
    {
      "cell_type": "markdown",
      "source": [
        "**Reading files**\n",
        "- readline(): reads one line from file\n",
        "- readlines(): reads all lines into a list\n",
        "- read(): reads entire file content as a string"
      ],
      "metadata": {
        "id": "mluupFgUZaa0"
      }
    },
    {
      "cell_type": "code",
      "source": [
        "#demonstrating use of read functions\n",
        "with open(\"file.txt\", 'r') as file:\n",
        "  content = file.read()\n",
        "  print(content)\n",
        "  lines = file.readlines()\n",
        "  print(lines)\n",
        "  line = file.readline()\n",
        "  print(line)"
      ],
      "metadata": {
        "colab": {
          "base_uri": "https://localhost:8080/"
        },
        "id": "OD2xMlyUYRyb",
        "outputId": "4f6330d8-afb9-4567-979a-572453bff298"
      },
      "execution_count": null,
      "outputs": [
        {
          "output_type": "stream",
          "name": "stdout",
          "text": [
            "Hello WorldI am a member of PASC.\n",
            "I am a member of Python SIG.\n",
            "I am a member of PASC.\n",
            "I am a member of Python SIG.\n",
            "[]\n",
            "\n"
          ]
        }
      ]
    },
    {
      "cell_type": "markdown",
      "source": [
        "Files are opened in text format when they are human readable. Binary format is efficient for files storing non-text data (ex - images)."
      ],
      "metadata": {
        "id": "s3980f5vZ6sE"
      }
    },
    {
      "cell_type": "markdown",
      "source": [
        "**Exercise:\n",
        "Upload an image to files in your colab notebook, and open them in binary format.**"
      ],
      "metadata": {
        "id": "KvyWaEG5aGD9"
      }
    },
    {
      "cell_type": "markdown",
      "source": [
        "You can also iterate through the lines of a file."
      ],
      "metadata": {
        "id": "xSl2ufo_a2Vm"
      }
    },
    {
      "cell_type": "code",
      "source": [
        "#iterating through a file\n",
        "with open(\"file.txt\", 'r') as file:\n",
        "  for line in file:\n",
        "    print(line)\n"
      ],
      "metadata": {
        "colab": {
          "base_uri": "https://localhost:8080/"
        },
        "id": "n1azZyUYZ0x1",
        "outputId": "d8142644-9b2f-48a3-d482-2e2ac4bb9a86"
      },
      "execution_count": null,
      "outputs": [
        {
          "output_type": "stream",
          "name": "stdout",
          "text": [
            "Hello World\n",
            "\n",
            "I am a member of PASC.\n",
            "\n",
            "I am a member of Python SIG.\n"
          ]
        }
      ]
    },
    {
      "cell_type": "markdown",
      "source": [
        "**Congratulations! You have successfully completed Module 2.**"
      ],
      "metadata": {
        "id": "O4EojPx6bHkt"
      }
    }
  ]
}